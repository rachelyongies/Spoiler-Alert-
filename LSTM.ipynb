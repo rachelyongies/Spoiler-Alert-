{
 "cells": [
  {
   "cell_type": "markdown",
   "id": "0f2c0352",
   "metadata": {},
   "source": [
    "# Content\n",
    "\n",
    "1. [Import and Data Cleaning](#import) \n",
    "2. [Preprocessing](#preprocessing)\n",
    " 1. [Sentences Preprocessing](#sentences-preprocessing)\n",
    " 2. [Stopword removal](#stopword-removal)\n",
    " 3. [Tokenization](#token)"
   ]
  },
  {
   "cell_type": "markdown",
   "id": "dfb702be",
   "metadata": {},
   "source": [
    "<a id='import'></a><h1>Importing and data cleaning</h1>"
   ]
  },
  {
   "cell_type": "code",
   "execution_count": 1,
   "id": "484fd1be",
   "metadata": {},
   "outputs": [
    {
     "name": "stdout",
     "output_type": "stream",
     "text": [
      "Collecting spacy\n",
      "  Downloading spacy-3.2.3-cp37-cp37m-win_amd64.whl (11.5 MB)\n",
      "Collecting pydantic!=1.8,!=1.8.1,<1.9.0,>=1.7.4\n",
      "  Downloading pydantic-1.8.2-cp37-cp37m-win_amd64.whl (1.9 MB)\n",
      "Collecting catalogue<2.1.0,>=2.0.6\n",
      "  Downloading catalogue-2.0.6-py3-none-any.whl (17 kB)\n",
      "Collecting cymem<2.1.0,>=2.0.2"
     ]
    },
    {
     "name": "stderr",
     "output_type": "stream",
     "text": [
      "WARNING: Ignoring invalid distribution -umpy (c:\\users\\benja\\anaconda3\\lib\\site-packages)\n",
      "WARNING: Ignoring invalid distribution -umpy (c:\\users\\benja\\anaconda3\\lib\\site-packages)\n",
      "WARNING: Ignoring invalid distribution -umpy (c:\\users\\benja\\anaconda3\\lib\\site-packages)\n",
      "WARNING: Ignoring invalid distribution -umpy (c:\\users\\benja\\anaconda3\\lib\\site-packages)\n",
      "WARNING: Ignoring invalid distribution -umpy (c:\\users\\benja\\anaconda3\\lib\\site-packages)\n",
      "WARNING: Ignoring invalid distribution -umpy (c:\\users\\benja\\anaconda3\\lib\\site-packages)\n",
      "WARNING: Ignoring invalid distribution -umpy (c:\\users\\benja\\anaconda3\\lib\\site-packages)\n",
      "WARNING: Ignoring invalid distribution -umpy (c:\\users\\benja\\anaconda3\\lib\\site-packages)\n",
      "WARNING: Ignoring invalid distribution -umpy (c:\\users\\benja\\anaconda3\\lib\\site-packages)\n",
      "WARNING: Ignoring invalid distribution -umpy (c:\\users\\benja\\anaconda3\\lib\\site-packages)\n",
      "WARNING: Ignoring invalid distribution -umpy (c:\\users\\benja\\anaconda3\\lib\\site-packages)\n",
      "WARNING: Ignoring invalid distribution -umpy (c:\\users\\benja\\anaconda3\\lib\\site-packages)\n"
     ]
    },
    {
     "name": "stdout",
     "output_type": "stream",
     "text": [
      "\n",
      "  Downloading cymem-2.0.6-cp37-cp37m-win_amd64.whl (35 kB)\n",
      "Requirement already satisfied: packaging>=20.0 in c:\\users\\benja\\anaconda3\\lib\\site-packages (from spacy) (21.3)\n",
      "Collecting thinc<8.1.0,>=8.0.12\n",
      "  Downloading thinc-8.0.15-cp37-cp37m-win_amd64.whl (1.0 MB)\n",
      "Requirement already satisfied: tqdm<5.0.0,>=4.38.0 in c:\\users\\benja\\anaconda3\\lib\\site-packages (from spacy) (4.62.3)\n",
      "Collecting spacy-legacy<3.1.0,>=3.0.8\n",
      "  Downloading spacy_legacy-3.0.9-py2.py3-none-any.whl (20 kB)\n",
      "Collecting pathy>=0.3.5\n",
      "  Downloading pathy-0.6.1-py3-none-any.whl (42 kB)\n",
      "Collecting wasabi<1.1.0,>=0.8.1\n",
      "  Downloading wasabi-0.9.0-py3-none-any.whl (25 kB)\n",
      "Collecting langcodes<4.0.0,>=3.2.0\n",
      "  Downloading langcodes-3.3.0-py3-none-any.whl (181 kB)\n",
      "Requirement already satisfied: setuptools in c:\\users\\benja\\anaconda3\\lib\\site-packages (from spacy) (58.0.4)\n",
      "Requirement already satisfied: jinja2 in c:\\users\\benja\\anaconda3\\lib\\site-packages (from spacy) (2.11.3)\n",
      "Collecting blis<0.8.0,>=0.4.0\n",
      "  Downloading blis-0.7.6-cp37-cp37m-win_amd64.whl (6.6 MB)\n",
      "Collecting srsly<3.0.0,>=2.4.1\n",
      "  Downloading srsly-2.4.2-cp37-cp37m-win_amd64.whl (450 kB)\n",
      "Requirement already satisfied: numpy>=1.15.0 in c:\\users\\benja\\anaconda3\\lib\\site-packages (from spacy) (1.21.5)\n",
      "Collecting spacy-loggers<2.0.0,>=1.0.0\n",
      "  Downloading spacy_loggers-1.0.1-py3-none-any.whl (7.0 kB)\n",
      "Collecting preshed<3.1.0,>=3.0.2\n",
      "  Downloading preshed-3.0.6-cp37-cp37m-win_amd64.whl (108 kB)\n",
      "Requirement already satisfied: typing-extensions<4.0.0.0,>=3.7.4 in c:\\users\\benja\\anaconda3\\lib\\site-packages (from spacy) (3.10.0.2)\n",
      "Requirement already satisfied: requests<3.0.0,>=2.13.0 in c:\\users\\benja\\anaconda3\\lib\\site-packages (from spacy) (2.27.1)\n",
      "Collecting typer<0.5.0,>=0.3.0\n",
      "  Downloading typer-0.4.0-py3-none-any.whl (27 kB)\n",
      "Collecting murmurhash<1.1.0,>=0.28.0\n",
      "  Downloading murmurhash-1.0.6-cp37-cp37m-win_amd64.whl (20 kB)\n",
      "Requirement already satisfied: zipp>=0.5 in c:\\users\\benja\\anaconda3\\lib\\site-packages (from catalogue<2.1.0,>=2.0.6->spacy) (3.7.0)\n",
      "Requirement already satisfied: pyparsing!=3.0.5,>=2.0.2 in c:\\users\\benja\\anaconda3\\lib\\site-packages (from packaging>=20.0->spacy) (3.0.4)\n",
      "Requirement already satisfied: smart-open<6.0.0,>=5.0.0 in c:\\users\\benja\\appdata\\roaming\\python\\python37\\site-packages (from pathy>=0.3.5->spacy) (5.2.1)\n",
      "Requirement already satisfied: urllib3<1.27,>=1.21.1 in c:\\users\\benja\\anaconda3\\lib\\site-packages (from requests<3.0.0,>=2.13.0->spacy) (1.26.8)\n",
      "Requirement already satisfied: certifi>=2017.4.17 in c:\\users\\benja\\anaconda3\\lib\\site-packages (from requests<3.0.0,>=2.13.0->spacy) (2021.10.8)\n",
      "Requirement already satisfied: idna<4,>=2.5 in c:\\users\\benja\\anaconda3\\lib\\site-packages (from requests<3.0.0,>=2.13.0->spacy) (3.3)\n",
      "Requirement already satisfied: charset-normalizer~=2.0.0 in c:\\users\\benja\\anaconda3\\lib\\site-packages (from requests<3.0.0,>=2.13.0->spacy) (2.0.4)\n",
      "Requirement already satisfied: colorama in c:\\users\\benja\\appdata\\roaming\\python\\python37\\site-packages (from tqdm<5.0.0,>=4.38.0->spacy) (0.4.1)\n",
      "Requirement already satisfied: click<9.0.0,>=7.1.1 in c:\\users\\benja\\anaconda3\\lib\\site-packages (from typer<0.5.0,>=0.3.0->spacy) (8.0.3)\n",
      "Requirement already satisfied: importlib-metadata in c:\\users\\benja\\anaconda3\\lib\\site-packages (from click<9.0.0,>=7.1.1->typer<0.5.0,>=0.3.0->spacy) (4.8.2)\n",
      "Requirement already satisfied: MarkupSafe>=0.23 in c:\\users\\benja\\anaconda3\\lib\\site-packages (from jinja2->spacy) (2.0.1)\n",
      "Installing collected packages: murmurhash, cymem, catalogue, wasabi, typer, srsly, pydantic, preshed, blis, thinc, spacy-loggers, spacy-legacy, pathy, langcodes, spacy\n",
      "Successfully installed blis-0.7.6 catalogue-2.0.6 cymem-2.0.6 langcodes-3.3.0 murmurhash-1.0.6 pathy-0.6.1 preshed-3.0.6 pydantic-1.8.2 spacy-3.2.3 spacy-legacy-3.0.9 spacy-loggers-1.0.1 srsly-2.4.2 thinc-8.0.15 typer-0.4.0 wasabi-0.9.0\n"
     ]
    },
    {
     "name": "stderr",
     "output_type": "stream",
     "text": [
      "WARNING: Ignoring invalid distribution -umpy (c:\\users\\benja\\anaconda3\\lib\\site-packages)\n",
      "WARNING: Ignoring invalid distribution -umpy (c:\\users\\benja\\anaconda3\\lib\\site-packages)\n",
      "WARNING: Ignoring invalid distribution -umpy (c:\\users\\benja\\anaconda3\\lib\\site-packages)\n",
      "WARNING: Ignoring invalid distribution -umpy (c:\\users\\benja\\anaconda3\\lib\\site-packages)\n",
      "WARNING: Ignoring invalid distribution -umpy (c:\\users\\benja\\anaconda3\\lib\\site-packages)\n",
      "WARNING: Ignoring invalid distribution -umpy (c:\\users\\benja\\anaconda3\\lib\\site-packages)\n",
      "WARNING: Ignoring invalid distribution -umpy (c:\\users\\benja\\anaconda3\\lib\\site-packages)\n",
      "WARNING: Ignoring invalid distribution -umpy (c:\\users\\benja\\anaconda3\\lib\\site-packages)\n",
      "WARNING: Ignoring invalid distribution -umpy (c:\\users\\benja\\anaconda3\\lib\\site-packages)\n"
     ]
    }
   ],
   "source": [
    "!pip install spacy"
   ]
  },
  {
   "cell_type": "code",
   "execution_count": 1,
   "id": "64d69601",
   "metadata": {},
   "outputs": [
    {
     "name": "stderr",
     "output_type": "stream",
     "text": [
      "[nltk_data] Downloading package punkt to\n",
      "[nltk_data]     C:\\Users\\benja\\AppData\\Roaming\\nltk_data...\n",
      "[nltk_data]   Package punkt is already up-to-date!\n",
      "[nltk_data] Downloading package stopwords to\n",
      "[nltk_data]     C:\\Users\\benja\\AppData\\Roaming\\nltk_data...\n",
      "[nltk_data]   Package stopwords is already up-to-date!\n"
     ]
    }
   ],
   "source": [
    "import pandas as pd\n",
    "import numpy as np\n",
    "import json\n",
    "import string\n",
    "import re\n",
    "\n",
    "import nltk\n",
    "nltk.download('punkt')\n",
    "nltk.download('stopwords')\n",
    "from nltk.corpus import stopwords\n",
    "from nltk.tokenize import word_tokenize\n",
    "\n",
    "import spacy\n",
    "from spacy.tokenizer import Tokenizer"
   ]
  },
  {
   "cell_type": "code",
   "execution_count": 3,
   "id": "62e20a04",
   "metadata": {},
   "outputs": [],
   "source": [
    "# pd.set_option(\"display.max_rows\", None, \"display.max_columns\", None)"
   ]
  },
  {
   "cell_type": "code",
   "execution_count": 2,
   "id": "5bd463b2",
   "metadata": {},
   "outputs": [],
   "source": [
    "movie_df = pd.read_json('./IMDB_movie_details.json', lines=True)\n",
    "reviews_df = pd.read_json('./IMDB_reviews.json', lines=True)"
   ]
  },
  {
   "cell_type": "code",
   "execution_count": 5,
   "id": "769ce915",
   "metadata": {},
   "outputs": [],
   "source": [
    "# movie_df.to_csv('movies.csv', index=False)\n",
    "# reviews_df.to_csv('reviews.csv', index=False)"
   ]
  },
  {
   "cell_type": "code",
   "execution_count": 3,
   "id": "ceca062c",
   "metadata": {},
   "outputs": [
    {
     "name": "stdout",
     "output_type": "stream",
     "text": [
      "<class 'pandas.core.frame.DataFrame'>\n",
      "RangeIndex: 1572 entries, 0 to 1571\n",
      "Data columns (total 7 columns):\n",
      " #   Column         Non-Null Count  Dtype  \n",
      "---  ------         --------------  -----  \n",
      " 0   movie_id       1572 non-null   object \n",
      " 1   plot_summary   1572 non-null   object \n",
      " 2   duration       1572 non-null   object \n",
      " 3   genre          1572 non-null   object \n",
      " 4   rating         1572 non-null   float64\n",
      " 5   release_date   1572 non-null   object \n",
      " 6   plot_synopsis  1572 non-null   object \n",
      "dtypes: float64(1), object(6)\n",
      "memory usage: 86.1+ KB\n"
     ]
    }
   ],
   "source": [
    "movie_df.info()"
   ]
  },
  {
   "cell_type": "code",
   "execution_count": 7,
   "id": "69e5aca7",
   "metadata": {},
   "outputs": [
    {
     "name": "stdout",
     "output_type": "stream",
     "text": [
      "<class 'pandas.core.frame.DataFrame'>\n",
      "RangeIndex: 573913 entries, 0 to 573912\n",
      "Data columns (total 7 columns):\n",
      " #   Column          Non-Null Count   Dtype \n",
      "---  ------          --------------   ----- \n",
      " 0   review_date     573913 non-null  object\n",
      " 1   movie_id        573913 non-null  object\n",
      " 2   user_id         573913 non-null  object\n",
      " 3   is_spoiler      573913 non-null  bool  \n",
      " 4   review_text     573913 non-null  object\n",
      " 5   rating          573913 non-null  int64 \n",
      " 6   review_summary  573913 non-null  object\n",
      "dtypes: bool(1), int64(1), object(5)\n",
      "memory usage: 26.8+ MB\n"
     ]
    }
   ],
   "source": [
    "reviews_df.info()"
   ]
  },
  {
   "cell_type": "code",
   "execution_count": 8,
   "id": "f561a86a",
   "metadata": {},
   "outputs": [],
   "source": [
    "# movie_df.head()\n",
    "# reviews_df.head()"
   ]
  },
  {
   "cell_type": "markdown",
   "id": "4207c778",
   "metadata": {},
   "source": [
    "Remove movie ids with '/' at the end. Check if ids in movie_df are in reviews_df and vice versa. No need to drop any rows as all ids are present in both datasets"
   ]
  },
  {
   "cell_type": "code",
   "execution_count": 9,
   "id": "e5ab3ffb",
   "metadata": {},
   "outputs": [
    {
     "name": "stdout",
     "output_type": "stream",
     "text": [
      "[]\n",
      "[]\n"
     ]
    }
   ],
   "source": [
    "id_cleaning = ['tt0104014/', 'tt0114142/']\n",
    "\n",
    "for ele in id_cleaning:\n",
    "    idx = movie_df[movie_df['movie_id'] == ele].index\n",
    "    movie_df.loc[idx, ['movie_id']] = ele[:-1]\n",
    "\n",
    "movie_unique_id = list(pd.unique(movie_df['movie_id']))\n",
    "reviews_unique_id = pd.unique(reviews_df['movie_id'])\n",
    "\n",
    "not_found_movie = []\n",
    "not_found_reviews = []\n",
    "\n",
    "for ele in movie_unique_id: \n",
    "    if ele not in reviews_unique_id: \n",
    "        not_found_movie.append(ele)\n",
    "        \n",
    "for ele in reviews_unique_id: \n",
    "    if ele not in movie_unique_id: \n",
    "        not_found_reviews.append(ele)\n",
    "        \n",
    "print(not_found_reviews)\n",
    "print(not_found_movie)"
   ]
  },
  {
   "cell_type": "markdown",
   "id": "8dc7f8b0",
   "metadata": {},
   "source": [
    "Drop rows with empty synopsis or reviews. Empty columns do not come up as null, hence this step."
   ]
  },
  {
   "cell_type": "code",
   "execution_count": 10,
   "id": "5df9ddf7",
   "metadata": {},
   "outputs": [],
   "source": [
    "dropped_index = list(movie_df[movie_df['plot_synopsis'].values == ''].index)"
   ]
  },
  {
   "cell_type": "code",
   "execution_count": 11,
   "id": "ce636351",
   "metadata": {},
   "outputs": [],
   "source": [
    "dropped_ids = []\n",
    "\n",
    "for idx in dropped_index: \n",
    "    dropped_ids.append(movie_df.iloc[idx]['movie_id'])\n",
    "    \n",
    "reviews_df = reviews_df[~reviews_df['movie_id'].isin(dropped_ids)]"
   ]
  },
  {
   "cell_type": "code",
   "execution_count": 12,
   "id": "1485a2be",
   "metadata": {},
   "outputs": [],
   "source": [
    "movie_df.drop(dropped_index, inplace=True)"
   ]
  },
  {
   "cell_type": "code",
   "execution_count": 13,
   "id": "36b9b717",
   "metadata": {},
   "outputs": [],
   "source": [
    "reviews_df = reviews_df.drop(reviews_df[reviews_df['review_summary'].values == ''].index)"
   ]
  },
  {
   "cell_type": "code",
   "execution_count": 14,
   "id": "64749c00",
   "metadata": {
    "scrolled": true
   },
   "outputs": [],
   "source": [
    "movie_df = movie_df.reset_index(drop=True)\n",
    "reviews_df = reviews_df.reset_index(drop=True)"
   ]
  },
  {
   "cell_type": "code",
   "execution_count": 9,
   "id": "11db4ed0",
   "metadata": {},
   "outputs": [
    {
     "data": {
      "text/html": [
       "<div>\n",
       "<style scoped>\n",
       "    .dataframe tbody tr th:only-of-type {\n",
       "        vertical-align: middle;\n",
       "    }\n",
       "\n",
       "    .dataframe tbody tr th {\n",
       "        vertical-align: top;\n",
       "    }\n",
       "\n",
       "    .dataframe thead th {\n",
       "        text-align: right;\n",
       "    }\n",
       "</style>\n",
       "<table border=\"1\" class=\"dataframe\">\n",
       "  <thead>\n",
       "    <tr style=\"text-align: right;\">\n",
       "      <th></th>\n",
       "      <th>movie_id</th>\n",
       "      <th>plot_summary</th>\n",
       "      <th>duration</th>\n",
       "      <th>genre</th>\n",
       "      <th>rating</th>\n",
       "      <th>release_date</th>\n",
       "      <th>plot_synopsis</th>\n",
       "    </tr>\n",
       "  </thead>\n",
       "  <tbody>\n",
       "    <tr>\n",
       "      <th>0</th>\n",
       "      <td>tt0105112</td>\n",
       "      <td>Former CIA analyst, Jack Ryan is in England wi...</td>\n",
       "      <td>1h 57min</td>\n",
       "      <td>[Action, Thriller]</td>\n",
       "      <td>6.9</td>\n",
       "      <td>1992-06-05</td>\n",
       "      <td>Jack Ryan (Ford) is on a \"working vacation\" in...</td>\n",
       "    </tr>\n",
       "    <tr>\n",
       "      <th>1</th>\n",
       "      <td>tt1204975</td>\n",
       "      <td>Billy (Michael Douglas), Paddy (Robert De Niro...</td>\n",
       "      <td>1h 45min</td>\n",
       "      <td>[Comedy]</td>\n",
       "      <td>6.6</td>\n",
       "      <td>2013-11-01</td>\n",
       "      <td>Four boys around the age of 10 are friends in ...</td>\n",
       "    </tr>\n",
       "    <tr>\n",
       "      <th>2</th>\n",
       "      <td>tt0040897</td>\n",
       "      <td>Fred C. Dobbs and Bob Curtin, both down on the...</td>\n",
       "      <td>2h 6min</td>\n",
       "      <td>[Adventure, Drama, Western]</td>\n",
       "      <td>8.3</td>\n",
       "      <td>1948-01-24</td>\n",
       "      <td>Fred Dobbs (Humphrey Bogart) and Bob Curtin (T...</td>\n",
       "    </tr>\n",
       "    <tr>\n",
       "      <th>3</th>\n",
       "      <td>tt0126886</td>\n",
       "      <td>Tracy Flick is running unopposed for this year...</td>\n",
       "      <td>1h 43min</td>\n",
       "      <td>[Comedy, Drama, Romance]</td>\n",
       "      <td>7.3</td>\n",
       "      <td>1999-05-07</td>\n",
       "      <td>Jim McAllister (Matthew Broderick) is a much-a...</td>\n",
       "    </tr>\n",
       "    <tr>\n",
       "      <th>4</th>\n",
       "      <td>tt0286716</td>\n",
       "      <td>Bruce Banner, a brilliant scientist with a clo...</td>\n",
       "      <td>2h 18min</td>\n",
       "      <td>[Action, Sci-Fi]</td>\n",
       "      <td>5.7</td>\n",
       "      <td>2003-06-20</td>\n",
       "      <td>Bruce Banner (Eric Bana) is a research scienti...</td>\n",
       "    </tr>\n",
       "    <tr>\n",
       "      <th>...</th>\n",
       "      <td>...</td>\n",
       "      <td>...</td>\n",
       "      <td>...</td>\n",
       "      <td>...</td>\n",
       "      <td>...</td>\n",
       "      <td>...</td>\n",
       "      <td>...</td>\n",
       "    </tr>\n",
       "    <tr>\n",
       "      <th>1334</th>\n",
       "      <td>tt0120655</td>\n",
       "      <td>An abortion clinic worker with a special herit...</td>\n",
       "      <td>2h 10min</td>\n",
       "      <td>[Adventure, Comedy, Drama]</td>\n",
       "      <td>7.3</td>\n",
       "      <td>1999-11-12</td>\n",
       "      <td>The film opens with a homeless man (Bud Cort) ...</td>\n",
       "    </tr>\n",
       "    <tr>\n",
       "      <th>1335</th>\n",
       "      <td>tt0276751</td>\n",
       "      <td>Twelve year old Marcus Brewer lives with his c...</td>\n",
       "      <td>1h 41min</td>\n",
       "      <td>[Comedy, Drama, Romance]</td>\n",
       "      <td>7.1</td>\n",
       "      <td>2002-05-17</td>\n",
       "      <td>Will Freeman (Hugh Grant) is a 38-year-old bac...</td>\n",
       "    </tr>\n",
       "    <tr>\n",
       "      <th>1336</th>\n",
       "      <td>tt0289879</td>\n",
       "      <td>Evan Treborn grows up in a small town with his...</td>\n",
       "      <td>1h 53min</td>\n",
       "      <td>[Sci-Fi, Thriller]</td>\n",
       "      <td>7.7</td>\n",
       "      <td>2004-01-23</td>\n",
       "      <td>In the year 1998, Evan Treborn (Ashton Kutcher...</td>\n",
       "    </tr>\n",
       "    <tr>\n",
       "      <th>1337</th>\n",
       "      <td>tt1723811</td>\n",
       "      <td>Brandon is a 30-something man living in New Yo...</td>\n",
       "      <td>1h 41min</td>\n",
       "      <td>[Drama]</td>\n",
       "      <td>7.2</td>\n",
       "      <td>2012-01-13</td>\n",
       "      <td>Brandon (Michael Fassbender) is a successful, ...</td>\n",
       "    </tr>\n",
       "    <tr>\n",
       "      <th>1338</th>\n",
       "      <td>tt5013056</td>\n",
       "      <td>Evacuation of Allied soldiers from the British...</td>\n",
       "      <td>1h 46min</td>\n",
       "      <td>[Action, Drama, History]</td>\n",
       "      <td>8.1</td>\n",
       "      <td>2017-07-21</td>\n",
       "      <td>The film alternates between three different pe...</td>\n",
       "    </tr>\n",
       "  </tbody>\n",
       "</table>\n",
       "<p>1339 rows × 7 columns</p>\n",
       "</div>"
      ],
      "text/plain": [
       "       movie_id                                       plot_summary  duration  \\\n",
       "0     tt0105112  Former CIA analyst, Jack Ryan is in England wi...  1h 57min   \n",
       "1     tt1204975  Billy (Michael Douglas), Paddy (Robert De Niro...  1h 45min   \n",
       "2     tt0040897  Fred C. Dobbs and Bob Curtin, both down on the...   2h 6min   \n",
       "3     tt0126886  Tracy Flick is running unopposed for this year...  1h 43min   \n",
       "4     tt0286716  Bruce Banner, a brilliant scientist with a clo...  2h 18min   \n",
       "...         ...                                                ...       ...   \n",
       "1334  tt0120655  An abortion clinic worker with a special herit...  2h 10min   \n",
       "1335  tt0276751  Twelve year old Marcus Brewer lives with his c...  1h 41min   \n",
       "1336  tt0289879  Evan Treborn grows up in a small town with his...  1h 53min   \n",
       "1337  tt1723811  Brandon is a 30-something man living in New Yo...  1h 41min   \n",
       "1338  tt5013056  Evacuation of Allied soldiers from the British...  1h 46min   \n",
       "\n",
       "                            genre  rating release_date  \\\n",
       "0              [Action, Thriller]     6.9   1992-06-05   \n",
       "1                        [Comedy]     6.6   2013-11-01   \n",
       "2     [Adventure, Drama, Western]     8.3   1948-01-24   \n",
       "3        [Comedy, Drama, Romance]     7.3   1999-05-07   \n",
       "4                [Action, Sci-Fi]     5.7   2003-06-20   \n",
       "...                           ...     ...          ...   \n",
       "1334   [Adventure, Comedy, Drama]     7.3   1999-11-12   \n",
       "1335     [Comedy, Drama, Romance]     7.1   2002-05-17   \n",
       "1336           [Sci-Fi, Thriller]     7.7   2004-01-23   \n",
       "1337                      [Drama]     7.2   2012-01-13   \n",
       "1338     [Action, Drama, History]     8.1   2017-07-21   \n",
       "\n",
       "                                          plot_synopsis  \n",
       "0     Jack Ryan (Ford) is on a \"working vacation\" in...  \n",
       "1     Four boys around the age of 10 are friends in ...  \n",
       "2     Fred Dobbs (Humphrey Bogart) and Bob Curtin (T...  \n",
       "3     Jim McAllister (Matthew Broderick) is a much-a...  \n",
       "4     Bruce Banner (Eric Bana) is a research scienti...  \n",
       "...                                                 ...  \n",
       "1334  The film opens with a homeless man (Bud Cort) ...  \n",
       "1335  Will Freeman (Hugh Grant) is a 38-year-old bac...  \n",
       "1336  In the year 1998, Evan Treborn (Ashton Kutcher...  \n",
       "1337  Brandon (Michael Fassbender) is a successful, ...  \n",
       "1338  The film alternates between three different pe...  \n",
       "\n",
       "[1339 rows x 7 columns]"
      ]
     },
     "execution_count": 9,
     "metadata": {},
     "output_type": "execute_result"
    }
   ],
   "source": [
    "movie_df"
   ]
  },
  {
   "cell_type": "code",
   "execution_count": 10,
   "id": "7d31a176",
   "metadata": {},
   "outputs": [
    {
     "data": {
      "text/html": [
       "<div>\n",
       "<style scoped>\n",
       "    .dataframe tbody tr th:only-of-type {\n",
       "        vertical-align: middle;\n",
       "    }\n",
       "\n",
       "    .dataframe tbody tr th {\n",
       "        vertical-align: top;\n",
       "    }\n",
       "\n",
       "    .dataframe thead th {\n",
       "        text-align: right;\n",
       "    }\n",
       "</style>\n",
       "<table border=\"1\" class=\"dataframe\">\n",
       "  <thead>\n",
       "    <tr style=\"text-align: right;\">\n",
       "      <th></th>\n",
       "      <th>review_date</th>\n",
       "      <th>movie_id</th>\n",
       "      <th>user_id</th>\n",
       "      <th>is_spoiler</th>\n",
       "      <th>review_text</th>\n",
       "      <th>rating</th>\n",
       "      <th>review_summary</th>\n",
       "    </tr>\n",
       "  </thead>\n",
       "  <tbody>\n",
       "    <tr>\n",
       "      <th>0</th>\n",
       "      <td>10 February 2006</td>\n",
       "      <td>tt0111161</td>\n",
       "      <td>ur1898687</td>\n",
       "      <td>True</td>\n",
       "      <td>In its Oscar year, Shawshank Redemption (writt...</td>\n",
       "      <td>10</td>\n",
       "      <td>A classic piece of unforgettable film-making.</td>\n",
       "    </tr>\n",
       "    <tr>\n",
       "      <th>1</th>\n",
       "      <td>6 September 2000</td>\n",
       "      <td>tt0111161</td>\n",
       "      <td>ur0842118</td>\n",
       "      <td>True</td>\n",
       "      <td>The Shawshank Redemption is without a doubt on...</td>\n",
       "      <td>10</td>\n",
       "      <td>Simply amazing. The best film of the 90's.</td>\n",
       "    </tr>\n",
       "    <tr>\n",
       "      <th>2</th>\n",
       "      <td>3 August 2001</td>\n",
       "      <td>tt0111161</td>\n",
       "      <td>ur1285640</td>\n",
       "      <td>True</td>\n",
       "      <td>I believe that this film is the best story eve...</td>\n",
       "      <td>8</td>\n",
       "      <td>The best story ever told on film</td>\n",
       "    </tr>\n",
       "    <tr>\n",
       "      <th>3</th>\n",
       "      <td>1 September 2002</td>\n",
       "      <td>tt0111161</td>\n",
       "      <td>ur1003471</td>\n",
       "      <td>True</td>\n",
       "      <td>**Yes, there are SPOILERS here**This film has ...</td>\n",
       "      <td>10</td>\n",
       "      <td>Busy dying or busy living?</td>\n",
       "    </tr>\n",
       "    <tr>\n",
       "      <th>4</th>\n",
       "      <td>20 May 2004</td>\n",
       "      <td>tt0111161</td>\n",
       "      <td>ur0226855</td>\n",
       "      <td>True</td>\n",
       "      <td>At the heart of this extraordinary movie is a ...</td>\n",
       "      <td>8</td>\n",
       "      <td>Great story, wondrously told and acted</td>\n",
       "    </tr>\n",
       "    <tr>\n",
       "      <th>...</th>\n",
       "      <td>...</td>\n",
       "      <td>...</td>\n",
       "      <td>...</td>\n",
       "      <td>...</td>\n",
       "      <td>...</td>\n",
       "      <td>...</td>\n",
       "      <td>...</td>\n",
       "    </tr>\n",
       "    <tr>\n",
       "      <th>538821</th>\n",
       "      <td>8 August 1999</td>\n",
       "      <td>tt0139239</td>\n",
       "      <td>ur0100166</td>\n",
       "      <td>False</td>\n",
       "      <td>Go is wise, fast and pure entertainment. Assem...</td>\n",
       "      <td>10</td>\n",
       "      <td>The best teen movie of the nineties</td>\n",
       "    </tr>\n",
       "    <tr>\n",
       "      <th>538822</th>\n",
       "      <td>31 July 1999</td>\n",
       "      <td>tt0139239</td>\n",
       "      <td>ur0021767</td>\n",
       "      <td>False</td>\n",
       "      <td>Well, what shall I say. this one´s fun at any ...</td>\n",
       "      <td>9</td>\n",
       "      <td>Go - see the movie</td>\n",
       "    </tr>\n",
       "    <tr>\n",
       "      <th>538823</th>\n",
       "      <td>20 July 1999</td>\n",
       "      <td>tt0139239</td>\n",
       "      <td>ur0392750</td>\n",
       "      <td>False</td>\n",
       "      <td>Go is the best movie I have ever seen, and I'v...</td>\n",
       "      <td>10</td>\n",
       "      <td>It's the best movie I've ever seen</td>\n",
       "    </tr>\n",
       "    <tr>\n",
       "      <th>538824</th>\n",
       "      <td>11 June 1999</td>\n",
       "      <td>tt0139239</td>\n",
       "      <td>ur0349105</td>\n",
       "      <td>False</td>\n",
       "      <td>Call this 1999 teenage version of Pulp Fiction...</td>\n",
       "      <td>3</td>\n",
       "      <td>Haven't we seen this before?</td>\n",
       "    </tr>\n",
       "    <tr>\n",
       "      <th>538825</th>\n",
       "      <td>3 May 1999</td>\n",
       "      <td>tt0139239</td>\n",
       "      <td>ur0156431</td>\n",
       "      <td>False</td>\n",
       "      <td>Why was this movie made? No doubt to sucker in...</td>\n",
       "      <td>2</td>\n",
       "      <td>Go doesn't go anywhere</td>\n",
       "    </tr>\n",
       "  </tbody>\n",
       "</table>\n",
       "<p>538826 rows × 7 columns</p>\n",
       "</div>"
      ],
      "text/plain": [
       "             review_date   movie_id    user_id  is_spoiler  \\\n",
       "0       10 February 2006  tt0111161  ur1898687        True   \n",
       "1       6 September 2000  tt0111161  ur0842118        True   \n",
       "2          3 August 2001  tt0111161  ur1285640        True   \n",
       "3       1 September 2002  tt0111161  ur1003471        True   \n",
       "4            20 May 2004  tt0111161  ur0226855        True   \n",
       "...                  ...        ...        ...         ...   \n",
       "538821     8 August 1999  tt0139239  ur0100166       False   \n",
       "538822      31 July 1999  tt0139239  ur0021767       False   \n",
       "538823      20 July 1999  tt0139239  ur0392750       False   \n",
       "538824      11 June 1999  tt0139239  ur0349105       False   \n",
       "538825        3 May 1999  tt0139239  ur0156431       False   \n",
       "\n",
       "                                              review_text  rating  \\\n",
       "0       In its Oscar year, Shawshank Redemption (writt...      10   \n",
       "1       The Shawshank Redemption is without a doubt on...      10   \n",
       "2       I believe that this film is the best story eve...       8   \n",
       "3       **Yes, there are SPOILERS here**This film has ...      10   \n",
       "4       At the heart of this extraordinary movie is a ...       8   \n",
       "...                                                   ...     ...   \n",
       "538821  Go is wise, fast and pure entertainment. Assem...      10   \n",
       "538822  Well, what shall I say. this one´s fun at any ...       9   \n",
       "538823  Go is the best movie I have ever seen, and I'v...      10   \n",
       "538824  Call this 1999 teenage version of Pulp Fiction...       3   \n",
       "538825  Why was this movie made? No doubt to sucker in...       2   \n",
       "\n",
       "                                       review_summary  \n",
       "0       A classic piece of unforgettable film-making.  \n",
       "1          Simply amazing. The best film of the 90's.  \n",
       "2                    The best story ever told on film  \n",
       "3                          Busy dying or busy living?  \n",
       "4              Great story, wondrously told and acted  \n",
       "...                                               ...  \n",
       "538821            The best teen movie of the nineties  \n",
       "538822                             Go - see the movie  \n",
       "538823             It's the best movie I've ever seen  \n",
       "538824                   Haven't we seen this before?  \n",
       "538825                         Go doesn't go anywhere  \n",
       "\n",
       "[538826 rows x 7 columns]"
      ]
     },
     "execution_count": 10,
     "metadata": {},
     "output_type": "execute_result"
    }
   ],
   "source": [
    "reviews_df"
   ]
  },
  {
   "cell_type": "markdown",
   "id": "03d54dbf",
   "metadata": {},
   "source": [
    "<a id='preprocessing'></a><h1>Preprocessing</h1>"
   ]
  },
  {
   "cell_type": "markdown",
   "id": "30b4930a",
   "metadata": {},
   "source": [
    "Convert boolean values into int"
   ]
  },
  {
   "cell_type": "code",
   "execution_count": 15,
   "id": "d3d15b40",
   "metadata": {},
   "outputs": [],
   "source": [
    "reviews_df['is_spoiler'] = reviews_df['is_spoiler'].replace({True:1, False:0})"
   ]
  },
  {
   "cell_type": "code",
   "execution_count": 12,
   "id": "d7f16703",
   "metadata": {
    "scrolled": true
   },
   "outputs": [
    {
     "data": {
      "text/html": [
       "<div>\n",
       "<style scoped>\n",
       "    .dataframe tbody tr th:only-of-type {\n",
       "        vertical-align: middle;\n",
       "    }\n",
       "\n",
       "    .dataframe tbody tr th {\n",
       "        vertical-align: top;\n",
       "    }\n",
       "\n",
       "    .dataframe thead th {\n",
       "        text-align: right;\n",
       "    }\n",
       "</style>\n",
       "<table border=\"1\" class=\"dataframe\">\n",
       "  <thead>\n",
       "    <tr style=\"text-align: right;\">\n",
       "      <th></th>\n",
       "      <th>review_date</th>\n",
       "      <th>movie_id</th>\n",
       "      <th>user_id</th>\n",
       "      <th>is_spoiler</th>\n",
       "      <th>review_text</th>\n",
       "      <th>rating</th>\n",
       "      <th>review_summary</th>\n",
       "    </tr>\n",
       "  </thead>\n",
       "  <tbody>\n",
       "    <tr>\n",
       "      <th>0</th>\n",
       "      <td>10 February 2006</td>\n",
       "      <td>tt0111161</td>\n",
       "      <td>ur1898687</td>\n",
       "      <td>1</td>\n",
       "      <td>In its Oscar year, Shawshank Redemption (writt...</td>\n",
       "      <td>10</td>\n",
       "      <td>A classic piece of unforgettable film-making.</td>\n",
       "    </tr>\n",
       "    <tr>\n",
       "      <th>1</th>\n",
       "      <td>6 September 2000</td>\n",
       "      <td>tt0111161</td>\n",
       "      <td>ur0842118</td>\n",
       "      <td>1</td>\n",
       "      <td>The Shawshank Redemption is without a doubt on...</td>\n",
       "      <td>10</td>\n",
       "      <td>Simply amazing. The best film of the 90's.</td>\n",
       "    </tr>\n",
       "    <tr>\n",
       "      <th>2</th>\n",
       "      <td>3 August 2001</td>\n",
       "      <td>tt0111161</td>\n",
       "      <td>ur1285640</td>\n",
       "      <td>1</td>\n",
       "      <td>I believe that this film is the best story eve...</td>\n",
       "      <td>8</td>\n",
       "      <td>The best story ever told on film</td>\n",
       "    </tr>\n",
       "    <tr>\n",
       "      <th>3</th>\n",
       "      <td>1 September 2002</td>\n",
       "      <td>tt0111161</td>\n",
       "      <td>ur1003471</td>\n",
       "      <td>1</td>\n",
       "      <td>**Yes, there are SPOILERS here**This film has ...</td>\n",
       "      <td>10</td>\n",
       "      <td>Busy dying or busy living?</td>\n",
       "    </tr>\n",
       "    <tr>\n",
       "      <th>4</th>\n",
       "      <td>20 May 2004</td>\n",
       "      <td>tt0111161</td>\n",
       "      <td>ur0226855</td>\n",
       "      <td>1</td>\n",
       "      <td>At the heart of this extraordinary movie is a ...</td>\n",
       "      <td>8</td>\n",
       "      <td>Great story, wondrously told and acted</td>\n",
       "    </tr>\n",
       "    <tr>\n",
       "      <th>...</th>\n",
       "      <td>...</td>\n",
       "      <td>...</td>\n",
       "      <td>...</td>\n",
       "      <td>...</td>\n",
       "      <td>...</td>\n",
       "      <td>...</td>\n",
       "      <td>...</td>\n",
       "    </tr>\n",
       "    <tr>\n",
       "      <th>95</th>\n",
       "      <td>13 September 2015</td>\n",
       "      <td>tt0111161</td>\n",
       "      <td>ur1951246</td>\n",
       "      <td>1</td>\n",
       "      <td>Two imprisoned men bond over a number of years...</td>\n",
       "      <td>10</td>\n",
       "      <td>a spotted sacrifice through darkness leads to ...</td>\n",
       "    </tr>\n",
       "    <tr>\n",
       "      <th>96</th>\n",
       "      <td>28 June 2015</td>\n",
       "      <td>tt0111161</td>\n",
       "      <td>ur61209717</td>\n",
       "      <td>1</td>\n",
       "      <td>In its Oscar year, Shawshank Redemption (writt...</td>\n",
       "      <td>8</td>\n",
       "      <td>Review</td>\n",
       "    </tr>\n",
       "    <tr>\n",
       "      <th>97</th>\n",
       "      <td>17 March 2015</td>\n",
       "      <td>tt0111161</td>\n",
       "      <td>ur56613094</td>\n",
       "      <td>1</td>\n",
       "      <td>I have seen the movie for the first time. It's...</td>\n",
       "      <td>8</td>\n",
       "      <td>Beautiful</td>\n",
       "    </tr>\n",
       "    <tr>\n",
       "      <th>98</th>\n",
       "      <td>1 March 2015</td>\n",
       "      <td>tt0111161</td>\n",
       "      <td>ur58986962</td>\n",
       "      <td>1</td>\n",
       "      <td>One of the classic movie ever made. Lots of en...</td>\n",
       "      <td>10</td>\n",
       "      <td>Classic Movie</td>\n",
       "    </tr>\n",
       "    <tr>\n",
       "      <th>99</th>\n",
       "      <td>22 November 2014</td>\n",
       "      <td>tt0111161</td>\n",
       "      <td>ur56637640</td>\n",
       "      <td>1</td>\n",
       "      <td>The Shawshank Redemtion ReviewThe Shawshank Re...</td>\n",
       "      <td>10</td>\n",
       "      <td>great concept great acting great movie</td>\n",
       "    </tr>\n",
       "  </tbody>\n",
       "</table>\n",
       "<p>100 rows × 7 columns</p>\n",
       "</div>"
      ],
      "text/plain": [
       "          review_date   movie_id     user_id  is_spoiler  \\\n",
       "0    10 February 2006  tt0111161   ur1898687           1   \n",
       "1    6 September 2000  tt0111161   ur0842118           1   \n",
       "2       3 August 2001  tt0111161   ur1285640           1   \n",
       "3    1 September 2002  tt0111161   ur1003471           1   \n",
       "4         20 May 2004  tt0111161   ur0226855           1   \n",
       "..                ...        ...         ...         ...   \n",
       "95  13 September 2015  tt0111161   ur1951246           1   \n",
       "96       28 June 2015  tt0111161  ur61209717           1   \n",
       "97      17 March 2015  tt0111161  ur56613094           1   \n",
       "98       1 March 2015  tt0111161  ur58986962           1   \n",
       "99   22 November 2014  tt0111161  ur56637640           1   \n",
       "\n",
       "                                          review_text  rating  \\\n",
       "0   In its Oscar year, Shawshank Redemption (writt...      10   \n",
       "1   The Shawshank Redemption is without a doubt on...      10   \n",
       "2   I believe that this film is the best story eve...       8   \n",
       "3   **Yes, there are SPOILERS here**This film has ...      10   \n",
       "4   At the heart of this extraordinary movie is a ...       8   \n",
       "..                                                ...     ...   \n",
       "95  Two imprisoned men bond over a number of years...      10   \n",
       "96  In its Oscar year, Shawshank Redemption (writt...       8   \n",
       "97  I have seen the movie for the first time. It's...       8   \n",
       "98  One of the classic movie ever made. Lots of en...      10   \n",
       "99  The Shawshank Redemtion ReviewThe Shawshank Re...      10   \n",
       "\n",
       "                                       review_summary  \n",
       "0       A classic piece of unforgettable film-making.  \n",
       "1          Simply amazing. The best film of the 90's.  \n",
       "2                    The best story ever told on film  \n",
       "3                          Busy dying or busy living?  \n",
       "4              Great story, wondrously told and acted  \n",
       "..                                                ...  \n",
       "95  a spotted sacrifice through darkness leads to ...  \n",
       "96                                             Review  \n",
       "97                                          Beautiful  \n",
       "98                                      Classic Movie  \n",
       "99             great concept great acting great movie  \n",
       "\n",
       "[100 rows x 7 columns]"
      ]
     },
     "execution_count": 12,
     "metadata": {},
     "output_type": "execute_result"
    }
   ],
   "source": [
    "reviews_df.head(100)"
   ]
  },
  {
   "cell_type": "markdown",
   "id": "e07caa3d",
   "metadata": {},
   "source": [
    "## Cleaning synopsis and summary"
   ]
  },
  {
   "cell_type": "markdown",
   "id": "aa6917c9",
   "metadata": {},
   "source": [
    "1. Expand Contractions - pip install contractions/use json\n",
    "2. Lower case \n",
    "3. Remove punctuations - use string \n",
    "4. Remove words and digits containing digits\n",
    "5. Remove Stopwords - use nltk\n",
    "6. Stemming and Lemmatization - use nltk\n",
    "7. Remove extra spaces"
   ]
  },
  {
   "cell_type": "markdown",
   "id": "3d9663c1",
   "metadata": {},
   "source": [
    "<a id='sentences-preprocessing'></a><h2>Sentences preprocessing</h2>\n",
    "\n",
    "Steps done: \n",
    "1. Expand Contractions - use json\n",
    "2. Lower case \n",
    "3. Remove punctuations\n",
    "4. Remove words and digits containing digits"
   ]
  },
  {
   "cell_type": "code",
   "execution_count": 16,
   "id": "0e7510dd",
   "metadata": {},
   "outputs": [],
   "source": [
    "with open ('./contractions.json') as f:\n",
    "    contractions_dict = json.load(f)\n",
    "\n",
    "def contractions_cleaning(sentence):\n",
    "    return ' '.join([contractions_dict.get(word, word) for word in sentence.split()])"
   ]
  },
  {
   "cell_type": "code",
   "execution_count": 17,
   "id": "03fe3294",
   "metadata": {},
   "outputs": [],
   "source": [
    "def sentence_preprocessing(df, col):\n",
    "    df[col] = df[col].str.lower() # convert to lowercase\n",
    "    df[col] = df[col].apply(contractions_cleaning) # expand contractions\n",
    "    df[col] = df[col].apply(lambda x: re.sub('[%s]' % re.escape(string.punctuation), ' ' , x)) # remove puncutations\n",
    "    df[col] = df[col].apply(lambda x : re.sub(r\"\\d+\", \" \", x)) # remove numbers\n",
    "    return df[col]\n",
    "\n",
    "reviews_df['review_text'] = sentence_preprocessing(reviews_df, 'review_text')\n",
    "reviews_df['review_summary'] = sentence_preprocessing(reviews_df, 'review_summary')\n",
    "movie_df['plot_summary'] = sentence_preprocessing(movie_df, 'plot_summary')\n",
    "movie_df['plot_synopsis'] = sentence_preprocessing(movie_df, 'plot_synopsis')"
   ]
  },
  {
   "cell_type": "code",
   "execution_count": 17,
   "id": "b00840a8",
   "metadata": {
    "scrolled": true
   },
   "outputs": [
    {
     "name": "stdout",
     "output_type": "stream",
     "text": [
      "story of gerry conlon  purported ringleader of the guildford four  a group of three irishmen and one english woman wrongly imprisoned for the   ira bombing of a pub in guildford  england  that left five people dead  conlon s father guiseppe was subsequently imprisoned along with six other conlon relatives who became known as the maguire seven                                      the story opens with a flash forward to the bombing of a pub in the guildford suburb of london  the pub  frequented by british soldiers  was targeted by the irish republican army  ira  as an act of terrorism a woman driving a car listens to a cassette recording of gerry conlon  a northern irish political prisoner  gerry speaks of his younger years living in belfast where he had steal lead sheets from the roofs of row houses and sell them  one day  while holding a piece of piping  he is shot at by british soldiers who mistake him for a sniper  believing the pipe is a rifle  gerry runs into the streets and through several homes while being chased  he inadvertently starts a small riot and joins the mob throwing rocks and molotov cocktails  members of the ira  who d been using one of the houses gerry runs through as a munitions cache  find gerry and threaten to shoot him in the leg  gerry s father  giuseppe  told by his daughters that their brother is in trouble  rushes to the scene and talks to the ira leader  who tells giuseppe that they are just trying to scare gerry into behaving  giuseppe decides to send gerry by boat to london in the hopes that he will find work and avoid the troubles in belfast on the boat to london  gerry meets his friend paul hill  the two arrive in london and go immediately to a squatter s house where their friend patrick armstrong lives with a small group of hippies  gerry and paul also visit the home of his aunt  annie maguire  gerry and paul seem to enjoy their time in london until one day one of patrick s british friends  jim  acts hostile toward them and they decide to leave the squat  they wander through london  finally settling on a bench in a park where they are accosted by a homeless man  charlie burke   who is carved his initials into the bench  charlie is irish and they talk for a time  paul and gerry continue to walk through london until they pass the house of a prostitute  she refuses to talk to them when they try to return the wallet she drops  gerry walks into her unlocked apartment and finds a stash of money in her bedroom  gerry takes the money and the two spend the night in a hotel in guilford  the bomb goes off in the soldier s pub  killing five people  four of whom are in the military  the british police begin to hunt for suspects  not long before  legislation  the prevention of terrorism act  is passed in parliament that allows the british police to hold potential suspects for seven days before they are formally charged gerry returns to belfast and rejoins his family  in london  jim  who d been hostile to gerry and paul talks to the police and identifies the two as troublemakers  paul  who d remained in london  is arrested and gerry recognizes him on tv by his shoes  a few days later the brits invade the conlon home and arrest gerry  taking him back to london  gerry is held without formal charges and is tortured and interrogated  being kept awake for seven days straight  he is beaten severely and forced to look at the forensic photos of the victims  his interrogators also tell him that his aunt annie is being charged as well with bombmaking  operating out of her home  eventually  paul is brought to gerry  having confessed himself  and he tells gerry to do the same  gerry still refuses to cooperate until one of the policemen threatens to kill his father  gerry relents and signs his name to a false statement of confession to the bombings gerry and paul  paddy armstrong and their friend carole richardson  known collectively as the guildford four  are charged with the bombings  while in a processing facility awaiting trial  gerry s father is also brought in  accused of being part of the bombmaking conspiracy involving annie maguire  giuseppe talks to gerry  who feels that his rough relationship with his father turned him to thievery and that he was destined to get into trouble like this  gerry has a minor  brief breakdown but his father is able to calm him the trial begins under heavy security  the prosecution contends that gerry  paul  patrick and carole committed the bombings  however solid evidence is lacking and they only have the confessions made by the accused  which the police commissioner  dickson  claims were not obtained under duress  annie maguire and her family are accused of bombmaking  a group that includes her youngest son  who was also beaten into confessing  on the witness stand  gerry admits that he robbed the hooker s home and that he and paul met charlie burke in the park  the prosecution claims no knowledge of burke s existence the trial ends with the guilford four being found guilty  all are given lengthy sentences  gerry s is a minimum of   years  the judge makes a point of stating that he had give gerry the death penalty for treason if gerry had been so accused  giuseppe is also sentenced to   years for smuggling explosives to annie maguire  gerry himself develops an intense hatred for lawyers in voiceover we hear gerry speaking on the tapes that he is made up for an attorney named gareth peirce  she goes to the park where paul and gerry met charlie burke and even finds his name carved into the bench giuseppe and gerry are sent to park royal  a maximum security prison  barker  the prison s warder  makes gerry and his father wear blue outfits with yellow stripes  branding them as the worst criminal population  the prison is mostly inhabited by english convicts and any irish prisoners are ostracized and persecuted  gerry falls in with a small group of jamaicans who have a large supply of lsd disguised as a jigsaw puzzle  gerry spends time getting stoned with them but his father disapproves  gerry promises to stay off the drugs  even after giuseppe dies gerry meets another irish convict named joe mcandrews  joe reveals that he and his people were responsible for the guilford pub bombings and for smuggling the explosives used in the attack  mcandrews informs the police that they are holding innocent people for the crime but british police still refuse to let them out  mcandrews is shunned and persecuted like every other irish prisoner  even starting a fight with the minions of a hulking brit named ronnie smalls  mcandrews threatens to kill smalls  family since he knows their address  smalls backs off  mcandrews and gerry also stage a protest to call attention to the conlons  innocence  seizing control of the cellblock for a brief period until barker sends in a riot squad to retake the prison by violent force  after the seizure is quelled  during a screening of the godfather for the prison population  mcandrews sprays barker with lighter fluid and sets him aflame  gerry  shocked by the horror of mcandrews  violent methods  separates himself from his fellow countryman  mcandrews is remanded to a different prison gareth peirce becomes the conlons  attorney through gerry s mother s influence  gerry instantly dislikes gareth but is gradually convinced she means to help him and his father  a campaign to prove the innocence of the conlons and the guildford four and the maguire seven begins to gain popularity  giuseppe  despite increasingly debilitating respiratory problems  manages some of the campaign from his and gerry s cell  after the burning of barker  gerry tells his father he will help with the campaign  peirce gives gerry a tape recorder and tells him to recount every detail of his life one night gerry notices his father has stopped breathing  he is able to revive giuseppe long enough to have him transported out of the prison for medical care  however  gerry is not permitted to accompany his father  a priest later visits gerry to tell him that his father died gerry continues to meet with peirce  developing a tremendous amount of trust for her  he continues giuseppe s campaign work in earnest  the british government tries to transfer him to a scottish prison to prevent him from working the campaign and meeting with peirce but the effort fails peirce reviews the judiciary files of the conlons court case  she is only allowed to view giuseppe s files on the orders of dickson  one day she visits the court archives and inadvertently passes a nasty cold on to the court clerk  a few days later she visits the archives again and finds a man substituting for the clerk  the man behind the counter asks peirce if she wants the files for either giuseppe or gerry conlon  peirce seizes the opportunity to view gerry s files and finds a folder containing the statement made by charlie burke that could vindicate gerry himself  attached to the statement is a handwritten note from dickson himself that reads  not to be shown to the defence   peirce steals the file and begins to build a new case and trial for gerry and the members of the guilford four the four are brought back to london  gareth leads their defense and  following an impassioned recounting of the sentences handed down to the four and annie maguire s family  presents charlie burke s statement to the court  she accuses dickson openly of destroying the lives of the defendants and of their complicity in the death of giuseppe conlon  the judge calls for order and reviews the evidence and declares that the four are innocent and free to go  however  the judge refuses to charge dickson or his accomplices with any misconduct and also does not declare the late giuseppe innocent  gerry and paul refuse to be escorted from the building by the bailiffs  gerry  standing with his family  makes a statement to the media in front of the court building saying he will carry on the campaign to clear his father s name \n"
     ]
    }
   ],
   "source": [
    "print(movie_df['plot_synopsis'].loc[40])"
   ]
  },
  {
   "cell_type": "markdown",
   "id": "6f83a903",
   "metadata": {},
   "source": [
    "</a><a id='stopword-removal'></a><h2>Stopword Removal</h2>"
   ]
  },
  {
   "cell_type": "code",
   "execution_count": 18,
   "id": "40a1ea73",
   "metadata": {
    "scrolled": true
   },
   "outputs": [
    {
     "name": "stdout",
     "output_type": "stream",
     "text": [
      "story gerry conlon purported ringleader guildford four group three irishmen one english woman wrongly imprisoned ira bombing pub guildford england left five people dead conlon father guiseppe subsequently imprisoned along six conlon relatives became known maguire seven story opens flash forward bombing pub guildford suburb london pub frequented british soldiers targeted irish republican army ira act terrorism woman driving car listens cassette recording gerry conlon northern irish political prisoner gerry speaks younger years living belfast steal lead sheets roofs row houses sell one day holding piece piping shot british soldiers mistake sniper believing pipe rifle gerry runs streets several homes chased inadvertently starts small riot joins mob throwing rocks molotov cocktails members ira using one houses gerry runs munitions cache find gerry threaten shoot leg gerry father giuseppe told daughters brother trouble rushes scene talks ira leader tells giuseppe trying scare gerry behaving giuseppe decides send gerry boat london hopes find work avoid troubles belfast boat london gerry meets friend paul hill two arrive london go immediately squatter house friend patrick armstrong lives small group hippies gerry paul also visit home aunt annie maguire gerry paul seem enjoy time london one day one patrick british friends jim acts hostile toward decide leave squat wander london finally settling bench park accosted homeless man charlie burke carved initials bench charlie irish talk time paul gerry continue walk london pass house prostitute refuses talk try return wallet drops gerry walks unlocked apartment finds stash money bedroom gerry takes money two spend night hotel guilford bomb goes soldier pub killing five people four military british police begin hunt suspects long legislation prevention terrorism act passed parliament allows british police hold potential suspects seven days formally charged gerry returns belfast rejoins family london jim hostile gerry paul talks police identifies two troublemakers paul remained london arrested gerry recognizes tv shoes days later brits invade conlon home arrest gerry taking back london gerry held without formal charges tortured interrogated kept awake seven days straight beaten severely forced look forensic photos victims interrogators also tell aunt annie charged well bombmaking operating home eventually paul brought gerry confessed tells gerry gerry still refuses cooperate one policemen threatens kill father gerry relents signs name false statement confession bombings gerry paul paddy armstrong friend carole richardson known collectively guildford four charged bombings processing facility awaiting trial gerry father also brought accused part bombmaking conspiracy involving annie maguire giuseppe talks gerry feels rough relationship father turned thievery destined get trouble like gerry minor brief breakdown father able calm trial begins heavy security prosecution contends gerry paul patrick carole committed bombings however solid evidence lacking confessions made accused police commissioner dickson claims obtained duress annie maguire family accused bombmaking group includes youngest son also beaten confessing witness stand gerry admits robbed hooker home paul met charlie burke park prosecution claims knowledge burke existence trial ends guilford four found guilty given lengthy sentences gerry minimum years judge makes point stating give gerry death penalty treason gerry accused giuseppe also sentenced years smuggling explosives annie maguire gerry develops intense hatred lawyers voiceover hear gerry speaking tapes made attorney named gareth peirce goes park paul gerry met charlie burke even finds name carved bench giuseppe gerry sent park royal maximum security prison barker prison warder makes gerry father wear blue outfits yellow stripes branding worst criminal population prison mostly inhabited english convicts irish prisoners ostracized persecuted gerry falls small group jamaicans large supply lsd disguised jigsaw puzzle gerry spends time getting stoned father disapproves gerry promises stay drugs even giuseppe dies gerry meets another irish convict named joe mcandrews joe reveals people responsible guilford pub bombings smuggling explosives used attack mcandrews informs police holding innocent people crime british police still refuse let mcandrews shunned persecuted like every irish prisoner even starting fight minions hulking brit named ronnie smalls mcandrews threatens kill smalls family since knows address smalls backs mcandrews gerry also stage protest call attention conlons innocence seizing control cellblock brief period barker sends riot squad retake prison violent force seizure quelled screening godfather prison population mcandrews sprays barker lighter fluid sets aflame gerry shocked horror mcandrews violent methods separates fellow countryman mcandrews remanded different prison gareth peirce becomes conlons attorney gerry mother influence gerry instantly dislikes gareth gradually convinced means help father campaign prove innocence conlons guildford four maguire seven begins gain popularity giuseppe despite increasingly debilitating respiratory problems manages campaign gerry cell burning barker gerry tells father help campaign peirce gives gerry tape recorder tells recount every detail life one night gerry notices father stopped breathing able revive giuseppe long enough transported prison medical care however gerry permitted accompany father priest later visits gerry tell father died gerry continues meet peirce developing tremendous amount trust continues giuseppe campaign work earnest british government tries transfer scottish prison prevent working campaign meeting peirce effort fails peirce reviews judiciary files conlons court case allowed view giuseppe files orders dickson one day visits court archives inadvertently passes nasty cold court clerk days later visits archives finds man substituting clerk man behind counter asks peirce wants files either giuseppe gerry conlon peirce seizes opportunity view gerry files finds folder containing statement made charlie burke could vindicate gerry attached statement handwritten note dickson reads shown defence peirce steals file begins build new case trial gerry members guilford four four brought back london gareth leads defense following impassioned recounting sentences handed four annie maguire family presents charlie burke statement court accuses dickson openly destroying lives defendants complicity death giuseppe conlon judge calls order reviews evidence declares four innocent free go however judge refuses charge dickson accomplices misconduct also declare late giuseppe innocent gerry paul refuse escorted building bailiffs gerry standing family makes statement media front court building saying carry campaign clear father name\n"
     ]
    }
   ],
   "source": [
    "stop_words = set(stopwords.words('english'))\n",
    "\n",
    "def remove_stopwords(sentence):\n",
    "  return ' '.join([word for word in sentence.split() if not word in stop_words])\n",
    "\n",
    "reviews_df['review_text'] = reviews_df['review_text'].apply(remove_stopwords)\n",
    "reviews_df['review_summary'] = reviews_df['review_summary'].apply(remove_stopwords)\n",
    "movie_df['plot_summary'] = movie_df['plot_summary'].apply(remove_stopwords)\n",
    "movie_df['plot_synopsis'] = movie_df['plot_synopsis'].apply(remove_stopwords)\n",
    "\n",
    "\n",
    "print(movie_df['plot_synopsis'].loc[40])"
   ]
  },
  {
   "cell_type": "code",
   "execution_count": 19,
   "id": "2f07764b",
   "metadata": {},
   "outputs": [],
   "source": [
    "import matplotlib.pyplot as plt\n",
    "import numpy as np\n",
    "final_df = pd.merge(movie_df,reviews_df, on='movie_id', how = 'inner')"
   ]
  },
  {
   "cell_type": "code",
   "execution_count": 20,
   "id": "cb636463",
   "metadata": {},
   "outputs": [
    {
     "data": {
      "text/html": [
       "<div>\n",
       "<style scoped>\n",
       "    .dataframe tbody tr th:only-of-type {\n",
       "        vertical-align: middle;\n",
       "    }\n",
       "\n",
       "    .dataframe tbody tr th {\n",
       "        vertical-align: top;\n",
       "    }\n",
       "\n",
       "    .dataframe thead th {\n",
       "        text-align: right;\n",
       "    }\n",
       "</style>\n",
       "<table border=\"1\" class=\"dataframe\">\n",
       "  <thead>\n",
       "    <tr style=\"text-align: right;\">\n",
       "      <th></th>\n",
       "      <th>plot_summary</th>\n",
       "      <th>plot_synopsis</th>\n",
       "      <th>is_spoiler</th>\n",
       "      <th>review_text</th>\n",
       "      <th>review_summary</th>\n",
       "    </tr>\n",
       "  </thead>\n",
       "  <tbody>\n",
       "    <tr>\n",
       "      <th>0</th>\n",
       "      <td>former cia analyst jack ryan england family va...</td>\n",
       "      <td>jack ryan ford working vacation london family ...</td>\n",
       "      <td>1</td>\n",
       "      <td>second tom clancy novel made film hunt red oct...</td>\n",
       "      <td>decent clancy thriller</td>\n",
       "    </tr>\n",
       "    <tr>\n",
       "      <th>1</th>\n",
       "      <td>former cia analyst jack ryan england family va...</td>\n",
       "      <td>jack ryan ford working vacation london family ...</td>\n",
       "      <td>1</td>\n",
       "      <td>second looks like becoming jack ryan catalogue...</td>\n",
       "      <td>jack ryan chapter ii</td>\n",
       "    </tr>\n",
       "    <tr>\n",
       "      <th>2</th>\n",
       "      <td>former cia analyst jack ryan england family va...</td>\n",
       "      <td>jack ryan ford working vacation london family ...</td>\n",
       "      <td>1</td>\n",
       "      <td>fan hunt red october boring opinion alec baldw...</td>\n",
       "      <td>filled brim excitement beats red october count...</td>\n",
       "    </tr>\n",
       "  </tbody>\n",
       "</table>\n",
       "</div>"
      ],
      "text/plain": [
       "                                        plot_summary  \\\n",
       "0  former cia analyst jack ryan england family va...   \n",
       "1  former cia analyst jack ryan england family va...   \n",
       "2  former cia analyst jack ryan england family va...   \n",
       "\n",
       "                                       plot_synopsis  is_spoiler  \\\n",
       "0  jack ryan ford working vacation london family ...           1   \n",
       "1  jack ryan ford working vacation london family ...           1   \n",
       "2  jack ryan ford working vacation london family ...           1   \n",
       "\n",
       "                                         review_text  \\\n",
       "0  second tom clancy novel made film hunt red oct...   \n",
       "1  second looks like becoming jack ryan catalogue...   \n",
       "2  fan hunt red october boring opinion alec baldw...   \n",
       "\n",
       "                                      review_summary  \n",
       "0                             decent clancy thriller  \n",
       "1                               jack ryan chapter ii  \n",
       "2  filled brim excitement beats red october count...  "
      ]
     },
     "execution_count": 20,
     "metadata": {},
     "output_type": "execute_result"
    }
   ],
   "source": [
    "final_df2 = final_df.drop(['duration','genre','rating_x','release_date','user_id','rating_y','review_date','movie_id'],axis=1)\n",
    "final_df2.head(3)\n"
   ]
  },
  {
   "cell_type": "code",
   "execution_count": 21,
   "id": "efc053d3",
   "metadata": {},
   "outputs": [
    {
     "data": {
      "text/plain": [
       "0    1000\n",
       "1    1000\n",
       "Name: is_spoiler, dtype: int64"
      ]
     },
     "execution_count": 21,
     "metadata": {},
     "output_type": "execute_result"
    }
   ],
   "source": [
    "last = final_df2.groupby('is_spoiler').apply(lambda x: x.sample(1000))\n",
    "last.shape\n",
    "last['is_spoiler'].value_counts()\n"
   ]
  },
  {
   "cell_type": "code",
   "execution_count": 44,
   "id": "521778aa",
   "metadata": {},
   "outputs": [],
   "source": [
    "# def count_len(text):\n",
    "#   wordlist=text.split(' ')\n",
    "#   return len(wordlist)\n",
    "\n",
    "# last['len_lemmatized']=last['review_text'].apply(count_len)\n",
    "# print(last['len_lemmatized'].mean())"
   ]
  },
  {
   "cell_type": "code",
   "execution_count": 34,
   "id": "3e2c9769",
   "metadata": {},
   "outputs": [
    {
     "name": "stdout",
     "output_type": "stream",
     "text": [
      "2000\n"
     ]
    }
   ],
   "source": [
    "import tensorflow as tf\n",
    "from tensorflow.keras.preprocessing.text import Tokenizer\n",
    "from tensorflow.keras import layers\n",
    "from tensorflow.keras.preprocessing.text import text_to_word_sequence\n",
    "from tensorflow.keras.utils import to_categorical\n",
    "from tensorflow.keras.layers import Embedding, Dense, LSTM, SpatialDropout1D\n",
    "from tensorflow.keras.losses import BinaryCrossentropy\n",
    "from tensorflow.keras.callbacks import EarlyStopping\n",
    "from tensorflow.keras.models import Sequential\n",
    "from tensorflow.keras.optimizers import Adam\n",
    "from tensorflow.keras.preprocessing.sequence import pad_sequences\n",
    "texts = last['plot_summary'].values\n",
    "tokenizer2 = Tokenizer()\n",
    "tokenizer2.fit_on_texts(texts)\n",
    "X = tokenizer2.texts_to_sequences(texts)\n",
    "#X_lemmatized = Tokenizer.texts_to_sequences(df_to_use['plot_summary'].values)\n",
    "\n",
    "#X_train for plot_summary\n",
    "X_train = pad_sequences(X, maxlen= 200)#MAX_SEQUENCE_LENGTH)\n",
    "y_train = pd.get_dummies(last['is_spoiler']).values\n",
    "\n",
    "texts_synopsis = last['plot_synopsis'].values\n",
    "tokenizer2 = Tokenizer()\n",
    "tokenizer2.fit_on_texts(texts_synopsis)\n",
    "X1 = tokenizer2.texts_to_sequences(texts_synopsis)\n",
    "X_train1 = pad_sequences(X1, maxlen=200)\n",
    "\n",
    "texts_review = last['review_text'].values\n",
    "tokenizer2 = Tokenizer()\n",
    "tokenizer2.fit_on_texts(texts_review)\n",
    "X2 = tokenizer2.texts_to_sequences(texts_review)\n",
    "X_train2 = pad_sequences(X2, maxlen=200)\n",
    "\n",
    "\n",
    "print(len(y_train))"
   ]
  },
  {
   "cell_type": "code",
   "execution_count": 35,
   "id": "a592bca4",
   "metadata": {},
   "outputs": [
    {
     "name": "stdout",
     "output_type": "stream",
     "text": [
      "2000\n"
     ]
    }
   ],
   "source": [
    "#validation set\n",
    "\n",
    "val = final_df2.groupby('is_spoiler').apply(lambda x: x.sample(1000))\n",
    "texts_val = val['plot_summary'].values\n",
    "tokenizer2 = Tokenizer()\n",
    "tokenizer2.fit_on_texts(texts_val)\n",
    "X_v = tokenizer2.texts_to_sequences(texts_val)\n",
    "X_val = pad_sequences(X_v, maxlen= 200)\n",
    "y_test= pd.get_dummies(val['is_spoiler']).values\n",
    "\n",
    "val_synopsis = val['plot_synopsis'].values\n",
    "tokenizer2 = Tokenizer()\n",
    "tokenizer2.fit_on_texts(val_synopsis)\n",
    "X_v1 = tokenizer2.texts_to_sequences(val_synopsis)\n",
    "X_val1 = pad_sequences(X_v1, maxlen=200)\n",
    "\n",
    "val_review = val['review_text'].values\n",
    "tokenizer2 = Tokenizer()\n",
    "tokenizer2.fit_on_texts(val_review)\n",
    "X_v2 = tokenizer2.texts_to_sequences(val_review)\n",
    "X_val2 = pad_sequences(X_v2, maxlen=200)\n",
    "print(len(y_test))"
   ]
  },
  {
   "cell_type": "code",
   "execution_count": 36,
   "id": "7ca6ae1e",
   "metadata": {},
   "outputs": [],
   "source": [
    "# The maximum number of words to be used. (most frequent)\n",
    "MAX_NB_WORDS = 20000\n",
    "\n",
    "# Most reviews have below 200 words. Standardize input fed into the model, every review will cut off at 200 words. Pad reviews with less than 200 words.\n",
    "MAX_SEQUENCE_LENGTH = 200\n",
    "EMBEDDING_DIM = 100"
   ]
  },
  {
   "cell_type": "code",
   "execution_count": 41,
   "id": "a166fe8a",
   "metadata": {},
   "outputs": [],
   "source": [
    "from tensorflow.keras import Input, Model\n",
    "from tensorflow.keras.layers import concatenate, Dropout\n",
    "\n",
    "lemmatized_input = Input(shape=(200,))\n",
    "lemmatized_input1 = Input(shape=(200,))\n",
    "lemmatized_input2 = Input(shape=(200,))\n",
    "\n",
    "#operate on lemmatized inputs\n",
    "x = Embedding(MAX_NB_WORDS, EMBEDDING_DIM, input_length=200)(lemmatized_input)\n",
    "x = SpatialDropout1D(0.2)(x)\n",
    "x = LSTM(64, dropout=0.2)(x)\n",
    "x = Dense(16, activation=\"relu\")(x)\n",
    "x = Dense(4, activation=\"relu\")(x)\n",
    "x = Model(inputs=lemmatized_input, outputs=x)\n",
    "\n",
    "y = Embedding(MAX_NB_WORDS, EMBEDDING_DIM, input_length=200)(lemmatized_input1)\n",
    "y = SpatialDropout1D(0.2)(y)\n",
    "y = LSTM(64, dropout=0.2)(y)\n",
    "y = Dense(16, activation=\"relu\")(y)\n",
    "y = Dense(4, activation=\"relu\")(y)\n",
    "y = Model(inputs=lemmatized_input1, outputs=y)\n",
    "\n",
    "v = Embedding(MAX_NB_WORDS, EMBEDDING_DIM, input_length=200)(lemmatized_input2)\n",
    "v = SpatialDropout1D(0.2)(v)\n",
    "v = LSTM(64, dropout=0.2)(v)\n",
    "v = Dense(16, activation=\"relu\")(v)\n",
    "v = Dense(4, activation=\"relu\")(v)\n",
    "v = Model(inputs=lemmatized_input2, outputs=v)\n",
    "\n",
    "\n",
    "#operate on remaining inputs\n",
    "# y = Dense(8, activation=\"relu\")(remaining_inputs)\n",
    "# y = Dense(4, activation=\"relu\")(y)\n",
    "# y = Model(inputs=remaining_inputs, outputs=y)\n",
    "\n",
    "# combined = concatenate([x.output, y.output])\n",
    "\n",
    "z = Dense(4, activation=\"relu\")(x.output)\n",
    "z = Dense(2, activation=\"sigmoid\")(z)\n",
    "\n",
    "\n",
    "model = Model(inputs=[x.input, y.input, v.input], outputs=z)"
   ]
  },
  {
   "cell_type": "code",
   "execution_count": 42,
   "id": "e2074d77",
   "metadata": {},
   "outputs": [],
   "source": [
    "model.compile(optimizer=tf.optimizers.Adam(), \n",
    "              loss='binary_crossentropy',\n",
    "              metrics=['accuracy'])"
   ]
  },
  {
   "cell_type": "code",
   "execution_count": 43,
   "id": "8ef79fd4",
   "metadata": {},
   "outputs": [
    {
     "name": "stdout",
     "output_type": "stream",
     "text": [
      "Epoch 1/12\n",
      "32/32 [==============================] - 8s 183ms/step - loss: 0.6932 - accuracy: 0.4735 - val_loss: 0.6931 - val_accuracy: 0.5000\n",
      "Epoch 2/12\n",
      "32/32 [==============================] - 5s 171ms/step - loss: 0.6931 - accuracy: 0.5085 - val_loss: 0.6931 - val_accuracy: 0.5000\n",
      "Epoch 3/12\n",
      "32/32 [==============================] - 5s 170ms/step - loss: 0.6917 - accuracy: 0.5870 - val_loss: 0.6931 - val_accuracy: 0.5265\n",
      "Epoch 4/12\n",
      "32/32 [==============================] - 5s 171ms/step - loss: 0.6867 - accuracy: 0.7045 - val_loss: 0.6936 - val_accuracy: 0.5290\n"
     ]
    },
    {
     "data": {
      "text/plain": [
       "<keras.callbacks.History at 0x2d466c97978>"
      ]
     },
     "execution_count": 43,
     "metadata": {},
     "output_type": "execute_result"
    }
   ],
   "source": [
    "model.fit([X_train, X_train1, X_train2], y_train, epochs=12, batch_size=64, validation_data=([X_val, X_val1, X_val2], y_test), callbacks=[EarlyStopping(monitor='val_loss', patience=3, min_delta=0.0001, restore_best_weights=True)])\n",
    "# model.fit(np.array(X_train), np.array(y_train), epochs=12, batch_size=64, validation_data=(np.array(X_val), np.array(y_test)), callbacks=[EarlyStopping(monitor='val_loss', patience=3, min_delta=0.0001, restore_best_weights=True)])"
   ]
  },
  {
   "cell_type": "code",
   "execution_count": 22,
   "id": "0ca1fbd7",
   "metadata": {},
   "outputs": [],
   "source": [
    "# SAVE TO CSV\n",
    "# import os\n",
    "# final_df = pd.merge(movie_df,reviews_df, on='movie_id', how = 'inner')\n",
    "# final_df.head(3)\n",
    "# final_df.drop(['user_id'],axis=1)\n",
    "# final_df.head(3)\n",
    "# final_df = final_df.drop(['duration','genre','rating_x','release_date','user_id','rating_y','review_date','movie_id'],axis=1)\n",
    "# final_df.head(3)\n",
    "# final_df.to_csv(os.getcwd() + 'merged1.csv', index=False)\n"
   ]
  },
  {
   "cell_type": "markdown",
   "id": "d0a7a7fb",
   "metadata": {},
   "source": [
    "</a><a id='token'></a><h2>Tokenization</h2>"
   ]
  },
  {
   "cell_type": "code",
   "execution_count": 16,
   "id": "dcbd8069",
   "metadata": {},
   "outputs": [],
   "source": [
    "import spacy\n",
    "from spacy.tokenizer import Tokenizer"
   ]
  },
  {
   "cell_type": "code",
   "execution_count": 24,
   "id": "56b09fa3",
   "metadata": {},
   "outputs": [],
   "source": [
    "# if it dont work, open anaconda prompt and install run this\n",
    "# python -m spacy download en_core_web_lg"
   ]
  },
  {
   "cell_type": "code",
   "execution_count": 17,
   "id": "47a71818",
   "metadata": {},
   "outputs": [],
   "source": [
    "nlp = spacy.load('en_core_web_lg')\n",
    "tokenizer = Tokenizer(nlp.vocab)\n",
    "\n",
    "reviews_df['review_text'] = reviews_df['review_text'].apply(lambda x: [ token.text for token in tokenizer(x)])\n",
    "reviews_df['review_summary'] = reviews_df['review_summary'].apply(lambda x: [ token.text for token in tokenizer(x)])\n",
    "movie_df['token_summary'] = movie_df['plot_summary'].apply(lambda x: [ token.text for token in tokenizer(x)])\n",
    "movie_df['token_synopsis'] = movie_df['plot_synopsis'].apply(lambda x: [ token.text for token in tokenizer(x)])"
   ]
  },
  {
   "cell_type": "code",
   "execution_count": 38,
   "id": "e95980db",
   "metadata": {},
   "outputs": [
    {
     "name": "stdout",
     "output_type": "stream",
     "text": [
      "Collecting tensorflow"
     ]
    },
    {
     "name": "stderr",
     "output_type": "stream",
     "text": [
      "WARNING: Ignoring invalid distribution -umpy (c:\\users\\benja\\anaconda3\\lib\\site-packages)\n",
      "WARNING: Ignoring invalid distribution -umpy (c:\\users\\benja\\anaconda3\\lib\\site-packages)\n",
      "WARNING: Ignoring invalid distribution -umpy (c:\\users\\benja\\anaconda3\\lib\\site-packages)\n",
      "WARNING: Ignoring invalid distribution -umpy (c:\\users\\benja\\anaconda3\\lib\\site-packages)\n",
      "WARNING: Ignoring invalid distribution -umpy (c:\\users\\benja\\anaconda3\\lib\\site-packages)\n",
      "WARNING: Ignoring invalid distribution -umpy (c:\\users\\benja\\anaconda3\\lib\\site-packages)\n",
      "WARNING: Ignoring invalid distribution -umpy (c:\\users\\benja\\anaconda3\\lib\\site-packages)\n",
      "WARNING: Ignoring invalid distribution -umpy (c:\\users\\benja\\anaconda3\\lib\\site-packages)\n",
      "WARNING: Ignoring invalid distribution -umpy (c:\\users\\benja\\anaconda3\\lib\\site-packages)\n",
      "WARNING: Ignoring invalid distribution -umpy (c:\\users\\benja\\anaconda3\\lib\\site-packages)\n",
      "WARNING: Ignoring invalid distribution -umpy (c:\\users\\benja\\anaconda3\\lib\\site-packages)\n",
      "WARNING: Ignoring invalid distribution -umpy (c:\\users\\benja\\anaconda3\\lib\\site-packages)\n",
      "WARNING: Ignoring invalid distribution -umpy (c:\\users\\benja\\anaconda3\\lib\\site-packages)\n",
      "WARNING: Ignoring invalid distribution -umpy (c:\\users\\benja\\anaconda3\\lib\\site-packages)\n",
      "WARNING: Ignoring invalid distribution -umpy (c:\\users\\benja\\anaconda3\\lib\\site-packages)\n",
      "WARNING: Ignoring invalid distribution -umpy (c:\\users\\benja\\anaconda3\\lib\\site-packages)\n",
      "WARNING: Ignoring invalid distribution -umpy (c:\\users\\benja\\anaconda3\\lib\\site-packages)\n",
      "WARNING: Ignoring invalid distribution -umpy (c:\\users\\benja\\anaconda3\\lib\\site-packages)\n"
     ]
    },
    {
     "name": "stdout",
     "output_type": "stream",
     "text": [
      "\n",
      "  Downloading tensorflow-2.8.0-cp37-cp37m-win_amd64.whl (437.9 MB)\n",
      "Collecting flatbuffers>=1.12\n",
      "  Downloading flatbuffers-2.0-py2.py3-none-any.whl (26 kB)\n",
      "Collecting keras<2.9,>=2.8.0rc0\n",
      "  Downloading keras-2.8.0-py2.py3-none-any.whl (1.4 MB)\n",
      "Requirement already satisfied: six>=1.12.0 in c:\\users\\benja\\appdata\\roaming\\python\\python37\\site-packages (from tensorflow) (1.12.0)\n",
      "Collecting absl-py>=0.4.0\n",
      "  Downloading absl_py-1.0.0-py3-none-any.whl (126 kB)\n",
      "Collecting tf-estimator-nightly==2.8.0.dev2021122109\n",
      "  Downloading tf_estimator_nightly-2.8.0.dev2021122109-py2.py3-none-any.whl (462 kB)\n",
      "Requirement already satisfied: h5py>=2.9.0 in c:\\users\\benja\\anaconda3\\lib\\site-packages (from tensorflow) (2.10.0)\n",
      "Collecting libclang>=9.0.1\n",
      "  Downloading libclang-13.0.0-py2.py3-none-win_amd64.whl (13.9 MB)\n",
      "Collecting termcolor>=1.1.0\n",
      "  Downloading termcolor-1.1.0.tar.gz (3.9 kB)\n",
      "Requirement already satisfied: numpy>=1.20 in c:\\users\\benja\\anaconda3\\lib\\site-packages (from tensorflow) (1.21.5)\n",
      "Collecting tensorboard<2.9,>=2.8\n",
      "  Downloading tensorboard-2.8.0-py3-none-any.whl (5.8 MB)\n",
      "Requirement already satisfied: setuptools in c:\\users\\benja\\anaconda3\\lib\\site-packages (from tensorflow) (58.0.4)\n",
      "Requirement already satisfied: wrapt>=1.11.0 in c:\\users\\benja\\appdata\\roaming\\python\\python37\\site-packages (from tensorflow) (1.11.2)\n",
      "Collecting google-pasta>=0.1.1\n",
      "  Downloading google_pasta-0.2.0-py3-none-any.whl (57 kB)\n",
      "Collecting keras-preprocessing>=1.1.1\n",
      "  Downloading Keras_Preprocessing-1.1.2-py2.py3-none-any.whl (42 kB)\n",
      "Collecting astunparse>=1.6.0\n",
      "  Downloading astunparse-1.6.3-py2.py3-none-any.whl (12 kB)\n",
      "Collecting opt-einsum>=2.3.2\n",
      "  Downloading opt_einsum-3.3.0-py3-none-any.whl (65 kB)\n",
      "Collecting grpcio<2.0,>=1.24.3\n",
      "  Downloading grpcio-1.44.0-cp37-cp37m-win_amd64.whl (3.4 MB)\n",
      "Collecting tensorflow-io-gcs-filesystem>=0.23.1\n",
      "  Downloading tensorflow_io_gcs_filesystem-0.24.0-cp37-cp37m-win_amd64.whl (1.5 MB)\n",
      "Collecting gast>=0.2.1\n",
      "  Downloading gast-0.5.3-py3-none-any.whl (19 kB)\n",
      "Collecting protobuf>=3.9.2\n",
      "  Downloading protobuf-3.19.4-cp37-cp37m-win_amd64.whl (896 kB)\n",
      "Requirement already satisfied: typing-extensions>=3.6.6 in c:\\users\\benja\\anaconda3\\lib\\site-packages (from tensorflow) (3.10.0.2)\n",
      "Requirement already satisfied: wheel<1.0,>=0.23.0 in c:\\users\\benja\\anaconda3\\lib\\site-packages (from astunparse>=1.6.0->tensorflow) (0.37.1)\n",
      "Collecting tensorboard-data-server<0.7.0,>=0.6.0\n",
      "  Downloading tensorboard_data_server-0.6.1-py3-none-any.whl (2.4 kB)\n",
      "Collecting google-auth-oauthlib<0.5,>=0.4.1\n",
      "  Downloading google_auth_oauthlib-0.4.6-py2.py3-none-any.whl (18 kB)\n",
      "Collecting markdown>=2.6.8\n",
      "  Downloading Markdown-3.3.6-py3-none-any.whl (97 kB)\n",
      "Requirement already satisfied: requests<3,>=2.21.0 in c:\\users\\benja\\anaconda3\\lib\\site-packages (from tensorboard<2.9,>=2.8->tensorflow) (2.27.1)\n",
      "Requirement already satisfied: werkzeug>=0.11.15 in c:\\users\\benja\\anaconda3\\lib\\site-packages (from tensorboard<2.9,>=2.8->tensorflow) (2.0.2)\n",
      "Collecting google-auth<3,>=1.6.3\n",
      "  Downloading google_auth-2.6.2-py2.py3-none-any.whl (156 kB)\n",
      "Collecting tensorboard-plugin-wit>=1.6.0\n",
      "  Downloading tensorboard_plugin_wit-1.8.1-py3-none-any.whl (781 kB)\n",
      "Collecting cachetools<6.0,>=2.0.0\n",
      "  Downloading cachetools-5.0.0-py3-none-any.whl (9.1 kB)\n",
      "Requirement already satisfied: pyasn1-modules>=0.2.1 in c:\\users\\benja\\anaconda3\\lib\\site-packages (from google-auth<3,>=1.6.3->tensorboard<2.9,>=2.8->tensorflow) (0.2.8)\n",
      "Collecting rsa<5,>=3.1.4\n",
      "  Downloading rsa-4.8-py3-none-any.whl (39 kB)\n",
      "Collecting requests-oauthlib>=0.7.0\n",
      "  Downloading requests_oauthlib-1.3.1-py2.py3-none-any.whl (23 kB)\n",
      "Requirement already satisfied: importlib-metadata>=4.4 in c:\\users\\benja\\anaconda3\\lib\\site-packages (from markdown>=2.6.8->tensorboard<2.9,>=2.8->tensorflow) (4.8.2)\n"
     ]
    },
    {
     "name": "stderr",
     "output_type": "stream",
     "text": [
      "WARNING: Ignoring invalid distribution -umpy (c:\\users\\benja\\anaconda3\\lib\\site-packages)\n",
      "WARNING: Ignoring invalid distribution -umpy (c:\\users\\benja\\anaconda3\\lib\\site-packages)\n",
      "WARNING: Ignoring invalid distribution -umpy (c:\\users\\benja\\anaconda3\\lib\\site-packages)\n",
      "WARNING: Ignoring invalid distribution -umpy (c:\\users\\benja\\anaconda3\\lib\\site-packages)\n",
      "WARNING: Ignoring invalid distribution -umpy (c:\\users\\benja\\anaconda3\\lib\\site-packages)\n",
      "WARNING: Ignoring invalid distribution -umpy (c:\\users\\benja\\anaconda3\\lib\\site-packages)\n",
      "WARNING: Ignoring invalid distribution -umpy (c:\\users\\benja\\anaconda3\\lib\\site-packages)\n",
      "WARNING: Ignoring invalid distribution -umpy (c:\\users\\benja\\anaconda3\\lib\\site-packages)\n",
      "WARNING: Ignoring invalid distribution -umpy (c:\\users\\benja\\anaconda3\\lib\\site-packages)\n",
      "WARNING: Ignoring invalid distribution -umpy (c:\\users\\benja\\anaconda3\\lib\\site-packages)\n",
      "WARNING: Ignoring invalid distribution -umpy (c:\\users\\benja\\anaconda3\\lib\\site-packages)\n",
      "WARNING: Ignoring invalid distribution -umpy (c:\\users\\benja\\anaconda3\\lib\\site-packages)\n",
      "WARNING: Ignoring invalid distribution -umpy (c:\\users\\benja\\anaconda3\\lib\\site-packages)\n"
     ]
    },
    {
     "name": "stdout",
     "output_type": "stream",
     "text": [
      "Requirement already satisfied: zipp>=0.5 in c:\\users\\benja\\anaconda3\\lib\\site-packages (from importlib-metadata>=4.4->markdown>=2.6.8->tensorboard<2.9,>=2.8->tensorflow) (3.7.0)\n",
      "Requirement already satisfied: pyasn1<0.5.0,>=0.4.6 in c:\\users\\benja\\anaconda3\\lib\\site-packages (from pyasn1-modules>=0.2.1->google-auth<3,>=1.6.3->tensorboard<2.9,>=2.8->tensorflow) (0.4.8)\n",
      "Requirement already satisfied: urllib3<1.27,>=1.21.1 in c:\\users\\benja\\anaconda3\\lib\\site-packages (from requests<3,>=2.21.0->tensorboard<2.9,>=2.8->tensorflow) (1.26.8)\n",
      "Requirement already satisfied: certifi>=2017.4.17 in c:\\users\\benja\\anaconda3\\lib\\site-packages (from requests<3,>=2.21.0->tensorboard<2.9,>=2.8->tensorflow) (2021.10.8)\n",
      "Requirement already satisfied: charset-normalizer~=2.0.0 in c:\\users\\benja\\anaconda3\\lib\\site-packages (from requests<3,>=2.21.0->tensorboard<2.9,>=2.8->tensorflow) (2.0.4)\n",
      "Requirement already satisfied: idna<4,>=2.5 in c:\\users\\benja\\anaconda3\\lib\\site-packages (from requests<3,>=2.21.0->tensorboard<2.9,>=2.8->tensorflow) (3.3)\n",
      "Collecting oauthlib>=3.0.0\n",
      "  Downloading oauthlib-3.2.0-py3-none-any.whl (151 kB)\n",
      "Building wheels for collected packages: termcolor\n",
      "  Building wheel for termcolor (setup.py): started\n",
      "  Building wheel for termcolor (setup.py): finished with status 'done'\n",
      "  Created wheel for termcolor: filename=termcolor-1.1.0-py3-none-any.whl size=4848 sha256=9ebe3364e49ce962ad90404a70acd706d5e8c87dad92f15f154f3cd54c066f3c\n",
      "  Stored in directory: c:\\users\\benja\\appdata\\local\\pip\\cache\\wheels\\3f\\e3\\ec\\8a8336ff196023622fbcb36de0c5a5c218cbb24111d1d4c7f2\n",
      "Successfully built termcolor\n",
      "Installing collected packages: rsa, oauthlib, cachetools, requests-oauthlib, google-auth, tensorboard-plugin-wit, tensorboard-data-server, protobuf, markdown, grpcio, google-auth-oauthlib, absl-py, tf-estimator-nightly, termcolor, tensorflow-io-gcs-filesystem, tensorboard, opt-einsum, libclang, keras-preprocessing, keras, google-pasta, gast, flatbuffers, astunparse, tensorflow\n",
      "Successfully installed absl-py-1.0.0 astunparse-1.6.3 cachetools-5.0.0 flatbuffers-2.0 gast-0.5.3 google-auth-2.6.2 google-auth-oauthlib-0.4.6 google-pasta-0.2.0 grpcio-1.44.0 keras-2.8.0 keras-preprocessing-1.1.2 libclang-13.0.0 markdown-3.3.6 oauthlib-3.2.0 opt-einsum-3.3.0 protobuf-3.19.4 requests-oauthlib-1.3.1 rsa-4.8 tensorboard-2.8.0 tensorboard-data-server-0.6.1 tensorboard-plugin-wit-1.8.1 tensorflow-2.8.0 tensorflow-io-gcs-filesystem-0.24.0 termcolor-1.1.0 tf-estimator-nightly-2.8.0.dev2021122109\n"
     ]
    }
   ],
   "source": [
    "!pip install tensorflow"
   ]
  }
 ],
 "metadata": {
  "kernelspec": {
   "display_name": "Python 3 (ipykernel)",
   "language": "python",
   "name": "python3"
  },
  "language_info": {
   "codemirror_mode": {
    "name": "ipython",
    "version": 3
   },
   "file_extension": ".py",
   "mimetype": "text/x-python",
   "name": "python",
   "nbconvert_exporter": "python",
   "pygments_lexer": "ipython3",
   "version": "3.7.3"
  }
 },
 "nbformat": 4,
 "nbformat_minor": 5
}
